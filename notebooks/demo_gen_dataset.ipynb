{
 "cells": [
  {
   "cell_type": "code",
   "execution_count": 2,
   "metadata": {},
   "outputs": [],
   "source": [
    "import pandas as pd\n",
    "import numpy as np\n",
    "import os"
   ]
  },
  {
   "cell_type": "code",
   "execution_count": 117,
   "metadata": {},
   "outputs": [],
   "source": [
    "labels = {}\n",
    "idVal = 0\n",
    "dfR = pd.DataFrame(columns=colTitle)\n",
    "final = []\n",
    "for File in os.listdir(\"./demo dataset timeconv/\"):\n",
    "    if(File == \".DS_Store\"):\n",
    "        continue\n",
    "    df = pd.read_csv(\"./demo dataset timeconv/\"+File)\n",
    "    ip = getIP(df, File)\n",
    "    row = [0 for x in range(21)]\n",
    "    size = len(df)/4\n",
    "    for x in range(4):\n",
    "        curInt = df[size*x:(size)*(x+1)]\n",
    "        row[x*5] = np.average(curInt[\"frame.time\"])\n",
    "        row[x*5+1] = np.std(curInt[\"frame.time\"])\n",
    "        row[x*5+2] = np.average(curInt[\"frame.len\"])\n",
    "        row[x*5+3] = np.std(curInt[\"frame.len\"])\n",
    "        row[x*5+4] = sum(curInt[\"ip.src\"] == ip)/float(size)\n",
    "    if File.split(\"_\")[0] not in labels:\n",
    "        labels[File.split(\"_\")[0]] = idVal\n",
    "        idVal += 1\n",
    "    row[20] = labels[File.split(\"_\")[0]]   \n",
    "    final.append(row)\n",
    "    "
   ]
  },
  {
   "cell_type": "code",
   "execution_count": 121,
   "metadata": {},
   "outputs": [],
   "source": [
    "dfR = pd.DataFrame(final, columns = colTitle)"
   ]
  },
  {
   "cell_type": "code",
   "execution_count": 136,
   "metadata": {},
   "outputs": [],
   "source": [
    "labelDf = []\n",
    "for key in labels:\n",
    "    labelDf.append([key, labels[key]])\n",
    "pd.DataFrame(labelDf, columns = [\"app\", \"labelId\"]).to_csv(\"labels.csv\", index = False)"
   ]
  },
  {
   "cell_type": "code",
   "execution_count": 78,
   "metadata": {},
   "outputs": [],
   "source": [
    "def getIP(df, Name):\n",
    "    A = set()\n",
    "    for x in range(len(df)):\n",
    "        if pd.isnull(df['ip.dst'].iloc[x]):\n",
    "            continue\n",
    "        if len(A) == 0:\n",
    "            A = set([df['ip.dst'].iloc[x], df['ip.src'].iloc[x]])\n",
    "        B = set([df['ip.dst'].iloc[x], df['ip.src'].iloc[x]])\n",
    "        A = A.intersection(B)\n",
    "        if len(A) == 1:\n",
    "            break\n",
    "    if len(A) == 0:\n",
    "        print(Name)\n",
    "        \n",
    "    ip = list(A)[0]\n",
    "    return ip"
   ]
  },
  {
   "cell_type": "code",
   "execution_count": 120,
   "metadata": {},
   "outputs": [],
   "source": [
    "colTitle = []\n",
    "for X in range(4):\n",
    "    colTitle.append(\"meanTime\"+str(X))\n",
    "    colTitle.append(\"stdTime\"+str(X))\n",
    "    colTitle.append(\"meanLen\"+str(X))\n",
    "    colTitle.append(\"stdLen\"+str(X))\n",
    "    colTitle.append(\"srcFrac\"+str(X))\n",
    "colTitle.append(\"Label\")"
   ]
  },
  {
   "cell_type": "code",
   "execution_count": null,
   "metadata": {
    "collapsed": true
   },
   "outputs": [],
   "source": []
  }
 ],
 "metadata": {
  "kernelspec": {
   "display_name": "Python 3",
   "language": "python",
   "name": "python3"
  },
  "language_info": {
   "codemirror_mode": {
    "name": "ipython",
    "version": 3
   },
   "file_extension": ".py",
   "mimetype": "text/x-python",
   "name": "python",
   "nbconvert_exporter": "python",
   "pygments_lexer": "ipython3",
   "version": "3.6.4"
  }
 },
 "nbformat": 4,
 "nbformat_minor": 2
}
