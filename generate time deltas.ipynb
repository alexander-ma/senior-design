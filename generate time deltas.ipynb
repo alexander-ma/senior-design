{
 "cells": [
  {
   "cell_type": "code",
   "execution_count": 54,
   "metadata": {
    "collapsed": true
   },
   "outputs": [],
   "source": [
    "import pandas as pd\n",
    "import os\n",
    "from datetime import datetime"
   ]
  },
  {
   "cell_type": "code",
   "execution_count": 129,
   "metadata": {
    "collapsed": true
   },
   "outputs": [
    {
     "name": "stdout",
     "output_type": "stream",
     "text": [
      "reddit_browse__2019-03-08_16-59-22_4fd1c357.csv\n",
      "instagram_IgSearchBrowse__2019-03-12_09-51-09_5bd0c615.csv\n",
      "reddit_browse__2019-03-12_10-40-04_5bd0c615.csv\n",
      "gmail_open_email__2019-03-12_09-33-42_4fd1c357(1).csv\n",
      "pinterest_tap_board__2019-03-11_15-41-00_4fd1c357.csv\n",
      "reddit_browse__2019-03-11_14-29-42_4fd1c357.csv\n",
      "netflix_watch-video__2019-03-11_15-34-01_d56097ed(1).csv\n",
      "google-drive_upload__2019-03-12_09-49-16_5bd0c615.csv\n",
      "reddit_post__2019-03-12_10-46-27_5bd0c615.csv\n",
      "instagram_IgSearchBrowse__2019-03-12_10-07-23_5bd0c615.csv\n",
      "reddit_browse__2019-03-12_10-42-50_5bd0c615(1).csv\n"
     ]
    },
    {
     "name": "stderr",
     "output_type": "stream",
     "text": [
      "/usr/local/Cellar/python3/3.6.2/Frameworks/Python.framework/Versions/3.6/lib/python3.6/site-packages/IPython/core/interactiveshell.py:2698: DtypeWarning: Columns (39) have mixed types. Specify dtype option on import or set low_memory=False.\n",
      "  interactivity=interactivity, compiler=compiler, result=result)\n"
     ]
    },
    {
     "name": "stdout",
     "output_type": "stream",
     "text": [
      "netflix_watch-video__2019-03-12_10-32-11_4fd1c357.csv\n",
      "reddit_browse__2019-03-11_14-42-06_5bd0c615.csv\n",
      "facebook_search_page__2019-03-12_09-21-56_5bd0c615.csv\n",
      "gmail_open_email__2019-03-12_09-32-08_4fd1c357.csv\n",
      "reddit_post__2019-03-11_14-33-17_d56097ed(1).csv\n",
      "netflix_browse-home__2019-03-12_10-12-57_5bd0c615.csv\n",
      "reddit_post__2019-03-11_14-23-33_d56097ed(1).csv\n",
      "netflix_browse-home__2019-03-12_10-16-09_4fd1c357.csv\n",
      "facebook_scroll_newsfeed__2019-03-12_08-57-09_4fd1c357.csv\n",
      "gmail_open_email__2019-03-12_09-33-42_4fd1c357.csv\n",
      "gmail_open_email__2019-03-12_09-32-59_5bd0c615.csv\n",
      "reddit_post__2019-03-12_10-46-46_4fd1c357.csv\n",
      "netflix_browse-home__2019-03-12_10-15-22_5bd0c615(1).csv\n",
      "gmail_open_email__2019-03-12_09-35-00_5bd0c615(1).csv\n",
      "reddit_post__2019-03-12_10-45-26_4fd1c357.csv\n",
      "reddit_post__2019-03-12_10-47-05_5bd0c615.csv\n",
      "gmail_open_email__2019-03-11_15-44-03_5bd0c615.csv\n",
      "facebook_scroll_newsfeed__2019-03-12_08-56-18_5bd0c615.csv\n",
      "facebook_scroll_newsfeed__2019-03-12_08-59-29_5bd0c615.csv\n",
      "reddit_post__2019-03-11_14-42-27_4fd1c357.csv\n",
      "instagram_IgSearchBrowse__2019-03-12_10-03-06_4fd1c357.csv\n",
      "netflix_watch-video__2019-03-11_15-34-01_d56097ed.csv\n",
      "facebook_search_page__2019-03-12_09-25-53_5bd0c615.csv\n",
      "netflix_browse-home__2019-03-12_10-14-36_4fd1c357.csv\n",
      "facebook_scroll_newsfeed__2019-03-12_09-18-31_4fd1c357.csv\n",
      "gmail_open_email__2019-03-12_09-35-45_4fd1c357(1).csv\n",
      "facebook_scroll_newsfeed__2019-03-11_15-42-47_5bd0c615.csv\n",
      "gmail_open_email__2019-03-12_09-35-00_5bd0c615.csv\n",
      "netflix_browse-home__2019-03-12_10-16-55_5bd0c615.csv\n",
      "netflix_watch-video__2019-03-12_10-28-14_4fd1c357.csv\n",
      "gmail_open_email__2019-03-12_09-35-45_4fd1c357.csv\n",
      "google-drive_download__2019-03-11_14-42-40_d56097ed.csv\n",
      "netflix_watch-video__2019-03-12_10-33-06_5bd0c615.csv\n",
      "facebook_search_page__2019-03-11_15-45-26_5bd0c615.csv\n",
      "reddit_post__2019-03-12_10-47-40_4fd1c357.csv\n",
      "netflix_watch-video__2019-03-12_10-30-19_4fd1c357.csv\n",
      "facebook_scroll_newsfeed__2019-03-12_08-52-40_4fd1c357.csv\n",
      "netflix_browse-home__2019-03-12_10-12-08_4fd1c357(1).csv\n",
      "reddit_browse__2019-03-12_10-36-24_5bd0c615.csv\n",
      "facebook_search_page__2019-03-12_09-27-10_4fd1c357.csv\n",
      "reddit_post__2019-03-12_10-46-08_4fd1c357.csv\n",
      "netflix_browse-home__2019-03-12_10-12-08_4fd1c357.csv\n",
      "facebook_search_page__2019-03-12_09-28-14_5bd0c615.csv\n",
      "reddit_post__2019-03-12_10-45-26_4fd1c357(1).csv\n",
      "netflix_watch-video__2019-03-12_10-29-18_5bd0c615.csv\n",
      "instagram_IgSearchBrowse__2019-03-12_10-04-24_5bd0c615.csv\n",
      "instagram_IgSearchBrowse__2019-03-12_10-06-00_4fd1c357.csv\n",
      "netflix_watch-video__2019-03-12_10-27-12_5bd0c615.csv\n",
      "reddit_post__2019-03-11_14-42-27_4fd1c357(1).csv\n",
      "netflix_watch-video__2019-03-12_10-31-15_5bd0c615.csv\n",
      "instagram_IgSearchBrowse__2019-03-12_10-04-24_5bd0c615(1).csv\n",
      "reddit_post__2019-03-11_14-23-33_d56097ed.csv\n",
      "instagram_IgSearchBrowse__2019-03-12_10-07-23_5bd0c615(1).csv\n",
      "instagram_IgSearchBrowse__2019-03-12_09-53-52_4fd1c357.csv\n",
      "reddit_browse__2019-03-12_10-41-16_4fd1c357.csv\n",
      "netflix_browse-home__2019-03-12_10-14-36_4fd1c357(1).csv\n",
      "reddit_browse__2019-03-12_10-39-00_4fd1c357.csv\n",
      "facebook_scroll_newsfeed__2019-03-12_09-00-48_4fd1c357.csv\n",
      "netflix_browse-home__2019-03-12_10-12-57_5bd0c615(1).csv\n",
      "facebook_search_page__2019-03-12_09-23-28_4fd1c357.csv\n",
      "netflix_browse-home__2019-03-12_10-16-09_4fd1c357(1).csv\n",
      "instagram_IgSearchBrowse__2019-03-12_09-53-52_4fd1c357(1).csv\n",
      "reddit_post__2019-03-11_14-33-17_d56097ed.csv\n",
      "instagram_IgSearchBrowse__2019-03-11_15-23-05_d56097ed.csv\n",
      "messenger_send-message__2019-03-11_15-42-11_4fd1c357.csv\n",
      "netflix_browse-home__2019-03-12_10-15-22_5bd0c615.csv\n",
      "reddit_browse__2019-03-12_10-36-24_5bd0c615(1).csv\n",
      "reddit_post__2019-03-12_10-45-49_5bd0c615.csv\n",
      "netflix_browse-home__2019-03-12_10-16-55_5bd0c615(1).csv\n",
      "messenger_send-message__2019-03-11_15-42-11_4fd1c357(1).csv\n",
      "facebook_scroll_newsfeed__2019-03-12_09-01-28_5bd0c615.csv\n",
      "reddit_browse__2019-03-11_14-21-30_d56097ed.csv\n",
      "reddit_browse__2019-03-12_10-35-44_4fd1c357.csv\n",
      "reddit_browse__2019-03-12_10-38-04_5bd0c615.csv\n",
      "facebook_search_page__2019-03-12_09-29-21_4fd1c357.csv\n",
      "gmail_open_email__2019-03-12_09-31-06_5bd0c615.csv\n",
      "google-drive_upload__2019-03-12_09-49-16_5bd0c615(1).csv\n",
      "reddit_browse__2019-03-08_16-43-58_4fd1c357.csv\n",
      "google-drive_download__2019-03-11_14-42-40_d56097ed(1).csv\n",
      "reddit_browse__2019-03-11_14-42-06_5bd0c615(1).csv\n",
      "facebook_scroll_newsfeed__2019-03-12_09-02-07_4fd1c357.csv\n",
      "instagram_IgSearchBrowse__2019-03-12_10-06-00_4fd1c357(1).csv\n",
      "reddit_browse__2019-03-12_10-37-13_4fd1c357.csv\n",
      "reddit_browse__2019-03-12_10-42-50_5bd0c615.csv\n",
      "reddit_post__2019-03-12_10-47-59_5bd0c615.csv\n",
      "pinterest_tap_board__2019-03-11_15-46-02_d56097ed.csv\n",
      "reddit_browse__2019-03-12_10-35-44_4fd1c357(1).csv\n",
      "instagram_IgSearchBrowse__2019-03-12_10-03-06_4fd1c357(1).csv\n",
      "netflix_watch-video__2019-03-12_10-26-16_4fd1c357.csv\n"
     ]
    }
   ],
   "source": [
    "for file in os.listdir(\"./demo dataset raw/\"):\n",
    "    if \".csv\" not in file:\n",
    "        continue\n",
    "    df = pd.read_csv(\"./demo dataset raw/\" + file)\n",
    "    df = df.sort_values([\"frame.time\"])\n",
    "    df[\"frame.time\"] = pd.Series(getMilliseconds(df[\"frame.time\"]))\n",
    "    df.to_csv(\"./demo dataset timeconv/\"+file, index = False)"
   ]
  },
  {
   "cell_type": "code",
   "execution_count": 96,
   "metadata": {},
   "outputs": [],
   "source": [
    "def getMilliseconds(inSeries):\n",
    "    toRet = [0]\n",
    "    for x in range(1, len(inSeries)):\n",
    "        curTime = inSeries.iloc[x].split()[3][:15]\n",
    "        curTime = datetime.strptime(curTime, \"%H:%M:%S.%f\")\n",
    "        prevTime = inSeries.iloc[x-1].split()[3][:15]\n",
    "        prevTime = datetime.strptime(prevTime, \"%H:%M:%S.%f\")\n",
    "        diff = curTime - prevTime\n",
    "        diff = round(diff.total_seconds() * 1000, 5)\n",
    "        toRet.append(diff)\n",
    "    return toRet"
   ]
  }
 ],
 "metadata": {
  "kernelspec": {
   "display_name": "Python 3",
   "language": "python",
   "name": "python3"
  },
  "language_info": {
   "codemirror_mode": {
    "name": "ipython",
    "version": 3
   },
   "file_extension": ".py",
   "mimetype": "text/x-python",
   "name": "python",
   "nbconvert_exporter": "python",
   "pygments_lexer": "ipython3",
   "version": "3.6.2"
  }
 },
 "nbformat": 4,
 "nbformat_minor": 2
}
